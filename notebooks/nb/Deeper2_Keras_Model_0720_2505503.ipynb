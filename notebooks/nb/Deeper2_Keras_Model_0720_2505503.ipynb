{
 "cells": [
  {
   "cell_type": "markdown",
   "metadata": {},
   "source": [
    "## Keras model - Deeper2\n",
    "---- \n",
    "* **Why Keras ? **\n",
    "\n",
    "\n",
    " > 실질적으로 풀려는 문제가 풀리는 문제 일까 아닐까를 정의가 안된 시점에서, 얕은 모델 부터 깊고 복잡한 모델까지 모두 실험해 보기 위해서 모델을 만들고 러닝 하여, 결과를 확인하는 과정에 사이클을 짧게 하기위함이 첫번째 이유이고, 두번째는 데이터를 직접 resizing하지 않아서 tfrecord로 파싱하는데 오류가 있었기 때문이다. \n",
    " \n",
    "* **현재 모델**\n",
    "> **VGG alike** : 맨 처음 1x1conv layer로 gray scals 을 만들고 다음 VGG와 비슷한 구조로 conv을 수행한 후 FCN으로 넘어간다. \n",
    "\n",
    "\n",
    "> Deeper와 다른점 \n",
    " 1.Dense layer 한 개 추가 \n",
    " 2.1x1 제거 \n"
   ]
  },
  {
   "cell_type": "code",
   "execution_count": 41,
   "metadata": {
    "ExecuteTime": {
     "end_time": "2018-07-19T06:12:11.291761Z",
     "start_time": "2018-07-19T06:12:10.911287Z"
    }
   },
   "outputs": [],
   "source": [
    "import numpy as np \n",
    "import pickle \n",
    "\n",
    "# load dataset \n",
    "with open('../sample_image/final_df.bin', 'rb') as f :\n",
    "    crop_img = pickle.load(f)\n",
    "\n",
    "# X = np.array([i for i in crop_img.crop_img_05])\n",
    "# y = crop_img.weight.values\n",
    "\n",
    "X = np.array([i for i in crop_img.crop_images])\n",
    "y = crop_img.weight.values"
   ]
  },
  {
   "cell_type": "code",
   "execution_count": 28,
   "metadata": {},
   "outputs": [
    {
     "data": {
      "text/plain": [
       "(125, 275, 3)"
      ]
     },
     "execution_count": 28,
     "metadata": {},
     "output_type": "execute_result"
    }
   ],
   "source": [
    "crop_img.columns\n",
    "crop_img.crop_img_05[0].shape"
   ]
  },
  {
   "cell_type": "code",
   "execution_count": 42,
   "metadata": {
    "ExecuteTime": {
     "end_time": "2018-07-19T06:11:34.537645Z",
     "start_time": "2018-07-19T06:11:34.534913Z"
    }
   },
   "outputs": [],
   "source": [
    "#Parameters \n",
    "\n",
    "BATCH_SIZE = 24\n",
    "\n",
    "Optimizers = [\"adagrad\", \"adadelta\", \"adam\", \"adamax\", \"\"]"
   ]
  },
  {
   "cell_type": "code",
   "execution_count": 43,
   "metadata": {
    "ExecuteTime": {
     "end_time": "2018-07-19T06:11:35.445478Z",
     "start_time": "2018-07-19T06:11:35.246851Z"
    }
   },
   "outputs": [],
   "source": [
    "### test/train split \n",
    "idx = list(np.random.randint(0, len(X), int(len(X) * 0.8)))\n",
    "test_idx = list(set(list(range(len(X)))) - set(idx))\n",
    "\n",
    "X_train = X[idx]\n",
    "y_train = y[idx]\n",
    "X_test = X[test_idx]\n",
    "y_test = y[test_idx]"
   ]
  },
  {
   "cell_type": "code",
   "execution_count": 44,
   "metadata": {
    "ExecuteTime": {
     "end_time": "2018-07-19T06:11:48.377654Z",
     "start_time": "2018-07-19T06:11:37.694959Z"
    }
   },
   "outputs": [],
   "source": [
    "# image augmentation \n",
    "from keras.preprocessing.image import ImageDataGenerator\n",
    "\n",
    "gen = ImageDataGenerator(\n",
    "        rotation_range=40,\n",
    "        width_shift_range=0.2,\n",
    "        height_shift_range=0.2,\n",
    "        rescale=1./255,\n",
    "        shear_range=0.2,\n",
    "        zoom_range=0.2,\n",
    "        horizontal_flip=True,\n",
    "        fill_mode='nearest')\n",
    "\n",
    "gen.fit(X_train, augment=True)"
   ]
  },
  {
   "cell_type": "code",
   "execution_count": 45,
   "metadata": {
    "ExecuteTime": {
     "end_time": "2018-07-18T16:16:50.173918Z",
     "start_time": "2018-07-18T16:16:49.619628Z"
    }
   },
   "outputs": [],
   "source": [
    "from keras.models import Sequential\n",
    "from keras.layers.core import Dense\n",
    "from keras.optimizers import SGD\n",
    "from keras.layers import Dropout\n",
    "from keras import regularizers\n",
    "from keras.layers import Conv2D, MaxPooling2D, Flatten, Dense, Dropout, BatchNormalization\n",
    "from keras.regularizers import l2\n",
    "\n",
    "\n",
    "def cnn_model():\n",
    "    model = Sequential()\n",
    "    #  first layer for making images to the gray scale images, more precisely \n",
    "    model.add(Conv2D(1, (1, 1), activation=\"relu\", input_shape=(250, 550, 3), padding='same', kernel_regularizer=l2(0.001)))\n",
    "\n",
    "    # \n",
    "#     model.add(Conv2D(32, (7, 7), activation=\"relu\", padding='valid', input_shape=(250, 550, 3), kernel_regularizer=l2(0.001)))\n",
    "#     model.add(Conv2D(32, (7, 7), activation=\"relu\", padding='valid'))\n",
    "#     model.add(BatchNormalization())\n",
    "#     model.add(MaxPooling2D())\n",
    "\n",
    "    model.add(Conv2D(32, (7, 7), activation=\"relu\", padding='valid', kernel_regularizer=l2(0.001)))\n",
    "    model.add(Conv2D(32, (7, 7), activation=\"relu\", padding='valid', kernel_regularizer=l2(0.001)))\n",
    "    model.add(BatchNormalization())\n",
    "    model.add(MaxPooling2D())\n",
    "    \n",
    "    model.add(Conv2D(32, (7, 7), activation=\"relu\", padding='valid', kernel_regularizer=l2(0.001)))\n",
    "    model.add(Conv2D(32, (7, 7), activation=\"relu\", padding='valid', kernel_regularizer=l2(0.001)))\n",
    "    model.add(BatchNormalization())\n",
    "    model.add(MaxPooling2D())\n",
    "\n",
    "    model.add(Conv2D(64, (3, 3), activation=\"relu\", padding='valid', kernel_regularizer=l2(0.001)))\n",
    "    model.add(Conv2D(64, (3, 3), activation=\"relu\", padding='valid', kernel_regularizer=l2(0.001)))\n",
    "    model.add(BatchNormalization())\n",
    "    model.add(MaxPooling2D())\n",
    "    \n",
    "    model.add(Conv2D(64, (3, 3), activation=\"relu\", padding='valid', kernel_regularizer=l2(0.001)))\n",
    "    model.add(Conv2D(64, (3, 3), activation=\"relu\", padding='valid', kernel_regularizer=l2(0.001)))\n",
    "    model.add(BatchNormalization())\n",
    "    model.add(MaxPooling2D())\n",
    "\n",
    "    model.add(Flatten())\n",
    "    model.add(Dense(500, activation=\"relu\", kernel_regularizer=l2(0.001)))\n",
    "    model.add(Dropout(0.5))\n",
    "#     model.add(Dense(200, activation=\"relu\", kernel_regularizer=l2(0.001)))\n",
    "#     model.add(Dropout(0.5))\n",
    "    model.add(Dense(1, activation=\"relu\"))\n",
    "    return model \n",
    "\n"
   ]
  },
  {
   "cell_type": "code",
   "execution_count": 46,
   "metadata": {
    "ExecuteTime": {
     "end_time": "2018-07-18T16:16:51.634786Z",
     "start_time": "2018-07-18T16:16:51.603617Z"
    }
   },
   "outputs": [],
   "source": [
    "from keras.utils.training_utils import multi_gpu_model\n",
    "\n",
    "model = cnn_model()\n",
    "model = multi_gpu_model(model, gpus=2)\n",
    "model.compile(loss='mean_squared_error', optimizer='adadelta', metrics=['mae'])"
   ]
  },
  {
   "cell_type": "code",
   "execution_count": 47,
   "metadata": {
    "ExecuteTime": {
     "end_time": "2018-07-19T06:11:25.836545Z",
     "start_time": "2018-07-19T06:11:25.577697Z"
    }
   },
   "outputs": [
    {
     "name": "stdout",
     "output_type": "stream",
     "text": [
      "Epoch 1/100\n",
      " - 27s - loss: 2920.1767 - mean_absolute_error: 42.9207 - val_loss: 68929266249.1429 - val_mean_absolute_error: 261807.8460\n",
      "Epoch 2/100\n",
      " - 19s - loss: 753.9675 - mean_absolute_error: 21.2948 - val_loss: 22667057834.6667 - val_mean_absolute_error: 150107.8839\n",
      "Epoch 3/100\n",
      " - 19s - loss: 506.3792 - mean_absolute_error: 17.8896 - val_loss: 22811450416.7619 - val_mean_absolute_error: 150575.1540\n",
      "Epoch 4/100\n",
      " - 19s - loss: 421.6859 - mean_absolute_error: 16.3719 - val_loss: 9550982826.6667 - val_mean_absolute_error: 97398.0130\n",
      "Epoch 5/100\n",
      " - 19s - loss: 438.0677 - mean_absolute_error: 16.6106 - val_loss: 22672203678.4762 - val_mean_absolute_error: 150055.1815\n",
      "Epoch 6/100\n",
      " - 19s - loss: 406.9072 - mean_absolute_error: 15.8965 - val_loss: 24626335353.9048 - val_mean_absolute_error: 156369.3728\n",
      "Epoch 7/100\n",
      " - 18s - loss: 538.5064 - mean_absolute_error: 18.5986 - val_loss: 73210954703.2381 - val_mean_absolute_error: 269742.3006\n",
      "Epoch 8/100\n",
      " - 18s - loss: 457.2095 - mean_absolute_error: 17.0002 - val_loss: 51459441030.0952 - val_mean_absolute_error: 226066.0469\n",
      "Epoch 9/100\n",
      " - 18s - loss: 364.1215 - mean_absolute_error: 15.6593 - val_loss: 18507253174.8571 - val_mean_absolute_error: 135550.0926\n",
      "Epoch 10/100\n",
      " - 18s - loss: 462.6070 - mean_absolute_error: 17.0366 - val_loss: 28522145011.8095 - val_mean_absolute_error: 168442.2448\n",
      "Epoch 11/100\n",
      " - 19s - loss: 432.2303 - mean_absolute_error: 16.1119 - val_loss: 38153746529.5238 - val_mean_absolute_error: 194709.2582\n",
      "Epoch 12/100\n",
      " - 19s - loss: 392.9548 - mean_absolute_error: 15.4235 - val_loss: 28382993944.3810 - val_mean_absolute_error: 167806.6719\n",
      "Epoch 13/100\n",
      " - 18s - loss: 480.0060 - mean_absolute_error: 17.6542 - val_loss: 21486240231.6190 - val_mean_absolute_error: 146164.9449\n",
      "Epoch 14/100\n",
      " - 18s - loss: 366.3171 - mean_absolute_error: 15.1794 - val_loss: 8096837607.6190 - val_mean_absolute_error: 89629.1380\n",
      "Epoch 15/100\n",
      " - 18s - loss: 498.5515 - mean_absolute_error: 17.6610 - val_loss: 24407975448.3810 - val_mean_absolute_error: 155770.8621\n",
      "Epoch 16/100\n",
      " - 19s - loss: 412.8807 - mean_absolute_error: 16.0690 - val_loss: 8845393164.1905 - val_mean_absolute_error: 93783.9423\n",
      "Epoch 17/100\n",
      " - 19s - loss: 364.4249 - mean_absolute_error: 15.4150 - val_loss: 12475784403.3016 - val_mean_absolute_error: 111349.5888\n",
      "Epoch 18/100\n",
      " - 19s - loss: 286.7416 - mean_absolute_error: 13.2540 - val_loss: 25957695975.6190 - val_mean_absolute_error: 160618.7954\n",
      "Epoch 19/100\n",
      " - 18s - loss: 332.4132 - mean_absolute_error: 14.5941 - val_loss: 18573285912.3810 - val_mean_absolute_error: 135869.6871\n",
      "Epoch 20/100\n",
      " - 18s - loss: 381.7300 - mean_absolute_error: 15.5854 - val_loss: 22391611196.9524 - val_mean_absolute_error: 149175.2128\n",
      "Epoch 21/100\n",
      " - 18s - loss: 355.1322 - mean_absolute_error: 15.1628 - val_loss: 41933505487.2381 - val_mean_absolute_error: 204251.4196\n",
      "Epoch 22/100\n",
      " - 19s - loss: 374.3349 - mean_absolute_error: 15.4692 - val_loss: 14058201039.2381 - val_mean_absolute_error: 118311.3601\n",
      "Epoch 23/100\n",
      " - 19s - loss: 325.7411 - mean_absolute_error: 14.3061 - val_loss: 13427318930.2857 - val_mean_absolute_error: 115497.7158\n",
      "Epoch 24/100\n",
      " - 19s - loss: 273.5257 - mean_absolute_error: 13.0422 - val_loss: 48617287289.9048 - val_mean_absolute_error: 219850.1443\n",
      "Epoch 25/100\n",
      " - 19s - loss: 322.2963 - mean_absolute_error: 14.1851 - val_loss: 9166660924.9524 - val_mean_absolute_error: 95423.1782\n",
      "Epoch 26/100\n",
      " - 19s - loss: 371.7482 - mean_absolute_error: 15.1627 - val_loss: 31476970057.1429 - val_mean_absolute_error: 176893.0670\n",
      "Epoch 27/100\n",
      " - 19s - loss: 360.0312 - mean_absolute_error: 15.2188 - val_loss: 53051840414.4762 - val_mean_absolute_error: 229655.4710\n",
      "Epoch 28/100\n",
      " - 20s - loss: 320.5155 - mean_absolute_error: 14.3446 - val_loss: 6851797942.8571 - val_mean_absolute_error: 82560.1771\n",
      "Epoch 29/100\n",
      " - 18s - loss: 301.4182 - mean_absolute_error: 13.8282 - val_loss: 19674467669.3333 - val_mean_absolute_error: 139859.4018\n",
      "Epoch 30/100\n",
      " - 18s - loss: 319.6023 - mean_absolute_error: 13.7053 - val_loss: 19031839402.6667 - val_mean_absolute_error: 137477.9784\n",
      "Epoch 31/100\n",
      " - 19s - loss: 242.4864 - mean_absolute_error: 12.5906 - val_loss: 2740865304.3810 - val_mean_absolute_error: 52168.0986\n",
      "Epoch 32/100\n",
      " - 19s - loss: 286.1383 - mean_absolute_error: 13.3848 - val_loss: 5048819346.2857 - val_mean_absolute_error: 70805.4159\n",
      "Epoch 33/100\n",
      " - 18s - loss: 338.0606 - mean_absolute_error: 14.7771 - val_loss: 12984200435.8095 - val_mean_absolute_error: 113672.0696\n",
      "Epoch 34/100\n",
      " - 19s - loss: 286.7100 - mean_absolute_error: 13.0879 - val_loss: 23768264996.5714 - val_mean_absolute_error: 153765.0424\n",
      "Epoch 35/100\n",
      " - 19s - loss: 257.0222 - mean_absolute_error: 12.7739 - val_loss: 4090637787.4286 - val_mean_absolute_error: 63791.6445\n",
      "Epoch 36/100\n",
      " - 19s - loss: 321.9311 - mean_absolute_error: 14.2977 - val_loss: 19759138230.8571 - val_mean_absolute_error: 140135.9189\n",
      "Epoch 37/100\n",
      " - 19s - loss: 358.5155 - mean_absolute_error: 15.2868 - val_loss: 15202154691.0476 - val_mean_absolute_error: 122930.9699\n",
      "Epoch 38/100\n",
      " - 19s - loss: 278.3106 - mean_absolute_error: 12.8429 - val_loss: 2792907690.6667 - val_mean_absolute_error: 52704.7022\n",
      "Epoch 39/100\n",
      " - 19s - loss: 275.3991 - mean_absolute_error: 13.2314 - val_loss: 13916698087.6190 - val_mean_absolute_error: 117626.8969\n",
      "Epoch 40/100\n",
      " - 18s - loss: 273.0184 - mean_absolute_error: 13.0785 - val_loss: 32454154435.0476 - val_mean_absolute_error: 179661.8281\n",
      "Epoch 41/100\n",
      " - 19s - loss: 333.8938 - mean_absolute_error: 14.3806 - val_loss: 13931686034.2857 - val_mean_absolute_error: 117692.6782\n",
      "Epoch 42/100\n",
      " - 19s - loss: 295.4881 - mean_absolute_error: 14.1975 - val_loss: 12329699961.9048 - val_mean_absolute_error: 110763.1477\n",
      "Epoch 43/100\n",
      " - 19s - loss: 233.9005 - mean_absolute_error: 12.0955 - val_loss: 7671589814.8571 - val_mean_absolute_error: 87315.4159\n",
      "Epoch 44/100\n",
      " - 18s - loss: 253.1932 - mean_absolute_error: 12.7343 - val_loss: 1928775131.4286 - val_mean_absolute_error: 43766.2078\n",
      "Epoch 45/100\n",
      " - 18s - loss: 270.7830 - mean_absolute_error: 13.1341 - val_loss: 11390322346.6667 - val_mean_absolute_error: 106413.6283\n",
      "Epoch 46/100\n",
      " - 18s - loss: 243.5997 - mean_absolute_error: 12.3560 - val_loss: 8557280280.3810 - val_mean_absolute_error: 92261.8955\n",
      "Epoch 47/100\n",
      " - 19s - loss: 300.4618 - mean_absolute_error: 13.8450 - val_loss: 10724191232.0000 - val_mean_absolute_error: 103287.6339\n",
      "Epoch 48/100\n",
      " - 19s - loss: 292.9889 - mean_absolute_error: 13.7605 - val_loss: 15825205491.8095 - val_mean_absolute_error: 125455.7489\n",
      "Epoch 49/100\n",
      " - 18s - loss: 233.3909 - mean_absolute_error: 12.4074 - val_loss: 7588852857.9048 - val_mean_absolute_error: 86878.3054\n",
      "Epoch 50/100\n",
      " - 19s - loss: 284.3283 - mean_absolute_error: 13.3263 - val_loss: 3325665950.4762 - val_mean_absolute_error: 57499.0956\n",
      "Epoch 51/100\n",
      " - 19s - loss: 230.7948 - mean_absolute_error: 11.8331 - val_loss: 3524371346.2857 - val_mean_absolute_error: 59211.8439\n",
      "Epoch 52/100\n",
      " - 18s - loss: 221.4308 - mean_absolute_error: 11.9835 - val_loss: 6229698584.3810 - val_mean_absolute_error: 78701.4096\n",
      "Epoch 53/100\n",
      " - 18s - loss: 238.2716 - mean_absolute_error: 12.2041 - val_loss: 8317208795.4286 - val_mean_absolute_error: 90930.9475\n",
      "Epoch 54/100\n",
      " - 18s - loss: 247.6490 - mean_absolute_error: 12.6291 - val_loss: 10798046305.5238 - val_mean_absolute_error: 103582.5097\n",
      "Epoch 55/100\n",
      " - 18s - loss: 261.4353 - mean_absolute_error: 12.4424 - val_loss: 8009501793.5238 - val_mean_absolute_error: 89252.4654\n",
      "Epoch 56/100\n",
      " - 19s - loss: 262.2621 - mean_absolute_error: 13.0624 - val_loss: 4169180968.6349 - val_mean_absolute_error: 64368.2106\n",
      "Epoch 57/100\n",
      " - 19s - loss: 231.6420 - mean_absolute_error: 12.3324 - val_loss: 11601413168.7619 - val_mean_absolute_error: 107319.0011\n",
      "Epoch 58/100\n",
      " - 18s - loss: 255.8288 - mean_absolute_error: 12.7909 - val_loss: 6885608179.8095 - val_mean_absolute_error: 82725.4446\n",
      "Epoch 59/100\n",
      " - 20s - loss: 478.8797 - mean_absolute_error: 17.0748 - val_loss: 3810487625.1429 - val_mean_absolute_error: 61536.4598\n",
      "Epoch 60/100\n"
     ]
    },
    {
     "ename": "KeyboardInterrupt",
     "evalue": "",
     "output_type": "error",
     "traceback": [
      "\u001b[0;31m---------------------------------------------------------------------------\u001b[0m",
      "\u001b[0;31mKeyboardInterrupt\u001b[0m                         Traceback (most recent call last)",
      "\u001b[0;32m<timed exec>\u001b[0m in \u001b[0;36m<module>\u001b[0;34m()\u001b[0m\n",
      "\u001b[0;32m~/.pyenv/versions/3.6.3/envs/python3/lib/python3.6/site-packages/keras/legacy/interfaces.py\u001b[0m in \u001b[0;36mwrapper\u001b[0;34m(*args, **kwargs)\u001b[0m\n\u001b[1;32m     89\u001b[0m                 warnings.warn('Update your `' + object_name +\n\u001b[1;32m     90\u001b[0m                               '` call to the Keras 2 API: ' + signature, stacklevel=2)\n\u001b[0;32m---> 91\u001b[0;31m             \u001b[0;32mreturn\u001b[0m \u001b[0mfunc\u001b[0m\u001b[0;34m(\u001b[0m\u001b[0;34m*\u001b[0m\u001b[0margs\u001b[0m\u001b[0;34m,\u001b[0m \u001b[0;34m**\u001b[0m\u001b[0mkwargs\u001b[0m\u001b[0;34m)\u001b[0m\u001b[0;34m\u001b[0m\u001b[0m\n\u001b[0m\u001b[1;32m     92\u001b[0m         \u001b[0mwrapper\u001b[0m\u001b[0;34m.\u001b[0m\u001b[0m_original_function\u001b[0m \u001b[0;34m=\u001b[0m \u001b[0mfunc\u001b[0m\u001b[0;34m\u001b[0m\u001b[0m\n\u001b[1;32m     93\u001b[0m         \u001b[0;32mreturn\u001b[0m \u001b[0mwrapper\u001b[0m\u001b[0;34m\u001b[0m\u001b[0m\n",
      "\u001b[0;32m~/.pyenv/versions/3.6.3/envs/python3/lib/python3.6/site-packages/keras/engine/training.py\u001b[0m in \u001b[0;36mfit_generator\u001b[0;34m(self, generator, steps_per_epoch, epochs, verbose, callbacks, validation_data, validation_steps, class_weight, max_queue_size, workers, use_multiprocessing, shuffle, initial_epoch)\u001b[0m\n\u001b[1;32m   1424\u001b[0m             \u001b[0muse_multiprocessing\u001b[0m\u001b[0;34m=\u001b[0m\u001b[0muse_multiprocessing\u001b[0m\u001b[0;34m,\u001b[0m\u001b[0;34m\u001b[0m\u001b[0m\n\u001b[1;32m   1425\u001b[0m             \u001b[0mshuffle\u001b[0m\u001b[0;34m=\u001b[0m\u001b[0mshuffle\u001b[0m\u001b[0;34m,\u001b[0m\u001b[0;34m\u001b[0m\u001b[0m\n\u001b[0;32m-> 1426\u001b[0;31m             initial_epoch=initial_epoch)\n\u001b[0m\u001b[1;32m   1427\u001b[0m \u001b[0;34m\u001b[0m\u001b[0m\n\u001b[1;32m   1428\u001b[0m     \u001b[0;34m@\u001b[0m\u001b[0minterfaces\u001b[0m\u001b[0;34m.\u001b[0m\u001b[0mlegacy_generator_methods_support\u001b[0m\u001b[0;34m\u001b[0m\u001b[0m\n",
      "\u001b[0;32m~/.pyenv/versions/3.6.3/envs/python3/lib/python3.6/site-packages/keras/engine/training_generator.py\u001b[0m in \u001b[0;36mfit_generator\u001b[0;34m(model, generator, steps_per_epoch, epochs, verbose, callbacks, validation_data, validation_steps, class_weight, max_queue_size, workers, use_multiprocessing, shuffle, initial_epoch)\u001b[0m\n\u001b[1;32m    189\u001b[0m                 outs = model.train_on_batch(x, y,\n\u001b[1;32m    190\u001b[0m                                             \u001b[0msample_weight\u001b[0m\u001b[0;34m=\u001b[0m\u001b[0msample_weight\u001b[0m\u001b[0;34m,\u001b[0m\u001b[0;34m\u001b[0m\u001b[0m\n\u001b[0;32m--> 191\u001b[0;31m                                             class_weight=class_weight)\n\u001b[0m\u001b[1;32m    192\u001b[0m \u001b[0;34m\u001b[0m\u001b[0m\n\u001b[1;32m    193\u001b[0m                 \u001b[0;32mif\u001b[0m \u001b[0;32mnot\u001b[0m \u001b[0misinstance\u001b[0m\u001b[0;34m(\u001b[0m\u001b[0mouts\u001b[0m\u001b[0;34m,\u001b[0m \u001b[0mlist\u001b[0m\u001b[0;34m)\u001b[0m\u001b[0;34m:\u001b[0m\u001b[0;34m\u001b[0m\u001b[0m\n",
      "\u001b[0;32m~/.pyenv/versions/3.6.3/envs/python3/lib/python3.6/site-packages/keras/engine/training.py\u001b[0m in \u001b[0;36mtrain_on_batch\u001b[0;34m(self, x, y, sample_weight, class_weight)\u001b[0m\n\u001b[1;32m   1218\u001b[0m             \u001b[0mins\u001b[0m \u001b[0;34m=\u001b[0m \u001b[0mx\u001b[0m \u001b[0;34m+\u001b[0m \u001b[0my\u001b[0m \u001b[0;34m+\u001b[0m \u001b[0msample_weights\u001b[0m\u001b[0;34m\u001b[0m\u001b[0m\n\u001b[1;32m   1219\u001b[0m         \u001b[0mself\u001b[0m\u001b[0;34m.\u001b[0m\u001b[0m_make_train_function\u001b[0m\u001b[0;34m(\u001b[0m\u001b[0;34m)\u001b[0m\u001b[0;34m\u001b[0m\u001b[0m\n\u001b[0;32m-> 1220\u001b[0;31m         \u001b[0moutputs\u001b[0m \u001b[0;34m=\u001b[0m \u001b[0mself\u001b[0m\u001b[0;34m.\u001b[0m\u001b[0mtrain_function\u001b[0m\u001b[0;34m(\u001b[0m\u001b[0mins\u001b[0m\u001b[0;34m)\u001b[0m\u001b[0;34m\u001b[0m\u001b[0m\n\u001b[0m\u001b[1;32m   1221\u001b[0m         \u001b[0;32mif\u001b[0m \u001b[0mlen\u001b[0m\u001b[0;34m(\u001b[0m\u001b[0moutputs\u001b[0m\u001b[0;34m)\u001b[0m \u001b[0;34m==\u001b[0m \u001b[0;36m1\u001b[0m\u001b[0;34m:\u001b[0m\u001b[0;34m\u001b[0m\u001b[0m\n\u001b[1;32m   1222\u001b[0m             \u001b[0;32mreturn\u001b[0m \u001b[0moutputs\u001b[0m\u001b[0;34m[\u001b[0m\u001b[0;36m0\u001b[0m\u001b[0;34m]\u001b[0m\u001b[0;34m\u001b[0m\u001b[0m\n",
      "\u001b[0;32m~/.pyenv/versions/3.6.3/envs/python3/lib/python3.6/site-packages/keras/backend/tensorflow_backend.py\u001b[0m in \u001b[0;36m__call__\u001b[0;34m(self, inputs)\u001b[0m\n\u001b[1;32m   2659\u001b[0m                 \u001b[0;32mreturn\u001b[0m \u001b[0mself\u001b[0m\u001b[0;34m.\u001b[0m\u001b[0m_legacy_call\u001b[0m\u001b[0;34m(\u001b[0m\u001b[0minputs\u001b[0m\u001b[0;34m)\u001b[0m\u001b[0;34m\u001b[0m\u001b[0m\n\u001b[1;32m   2660\u001b[0m \u001b[0;34m\u001b[0m\u001b[0m\n\u001b[0;32m-> 2661\u001b[0;31m             \u001b[0;32mreturn\u001b[0m \u001b[0mself\u001b[0m\u001b[0;34m.\u001b[0m\u001b[0m_call\u001b[0m\u001b[0;34m(\u001b[0m\u001b[0minputs\u001b[0m\u001b[0;34m)\u001b[0m\u001b[0;34m\u001b[0m\u001b[0m\n\u001b[0m\u001b[1;32m   2662\u001b[0m         \u001b[0;32melse\u001b[0m\u001b[0;34m:\u001b[0m\u001b[0;34m\u001b[0m\u001b[0m\n\u001b[1;32m   2663\u001b[0m             \u001b[0;32mif\u001b[0m \u001b[0mpy_any\u001b[0m\u001b[0;34m(\u001b[0m\u001b[0mis_tensor\u001b[0m\u001b[0;34m(\u001b[0m\u001b[0mx\u001b[0m\u001b[0;34m)\u001b[0m \u001b[0;32mfor\u001b[0m \u001b[0mx\u001b[0m \u001b[0;32min\u001b[0m \u001b[0minputs\u001b[0m\u001b[0;34m)\u001b[0m\u001b[0;34m:\u001b[0m\u001b[0;34m\u001b[0m\u001b[0m\n",
      "\u001b[0;32m~/.pyenv/versions/3.6.3/envs/python3/lib/python3.6/site-packages/keras/backend/tensorflow_backend.py\u001b[0m in \u001b[0;36m_call\u001b[0;34m(self, inputs)\u001b[0m\n\u001b[1;32m   2629\u001b[0m                                 \u001b[0msymbol_vals\u001b[0m\u001b[0;34m,\u001b[0m\u001b[0;34m\u001b[0m\u001b[0m\n\u001b[1;32m   2630\u001b[0m                                 session)\n\u001b[0;32m-> 2631\u001b[0;31m         \u001b[0mfetched\u001b[0m \u001b[0;34m=\u001b[0m \u001b[0mself\u001b[0m\u001b[0;34m.\u001b[0m\u001b[0m_callable_fn\u001b[0m\u001b[0;34m(\u001b[0m\u001b[0;34m*\u001b[0m\u001b[0marray_vals\u001b[0m\u001b[0;34m)\u001b[0m\u001b[0;34m\u001b[0m\u001b[0m\n\u001b[0m\u001b[1;32m   2632\u001b[0m         \u001b[0;32mreturn\u001b[0m \u001b[0mfetched\u001b[0m\u001b[0;34m[\u001b[0m\u001b[0;34m:\u001b[0m\u001b[0mlen\u001b[0m\u001b[0;34m(\u001b[0m\u001b[0mself\u001b[0m\u001b[0;34m.\u001b[0m\u001b[0moutputs\u001b[0m\u001b[0;34m)\u001b[0m\u001b[0;34m]\u001b[0m\u001b[0;34m\u001b[0m\u001b[0m\n\u001b[1;32m   2633\u001b[0m \u001b[0;34m\u001b[0m\u001b[0m\n",
      "\u001b[0;32m~/.pyenv/versions/3.6.3/envs/python3/lib/python3.6/site-packages/tensorflow/python/client/session.py\u001b[0m in \u001b[0;36m__call__\u001b[0;34m(self, *args)\u001b[0m\n\u001b[1;32m   1449\u001b[0m         \u001b[0;32mif\u001b[0m \u001b[0mself\u001b[0m\u001b[0;34m.\u001b[0m\u001b[0m_session\u001b[0m\u001b[0;34m.\u001b[0m\u001b[0m_created_with_new_api\u001b[0m\u001b[0;34m:\u001b[0m\u001b[0;34m\u001b[0m\u001b[0m\n\u001b[1;32m   1450\u001b[0m           return tf_session.TF_SessionRunCallable(\n\u001b[0;32m-> 1451\u001b[0;31m               self._session._session, self._handle, args, status, None)\n\u001b[0m\u001b[1;32m   1452\u001b[0m         \u001b[0;32melse\u001b[0m\u001b[0;34m:\u001b[0m\u001b[0;34m\u001b[0m\u001b[0m\n\u001b[1;32m   1453\u001b[0m           return tf_session.TF_DeprecatedSessionRunCallable(\n",
      "\u001b[0;31mKeyboardInterrupt\u001b[0m: "
     ]
    }
   ],
   "source": [
    "%%time\n",
    "hist = model.fit_generator(gen.flow(X_train, y_train, batch_size=BATCH_SIZE), \n",
    "                           steps_per_epoch=len(X_train)/BATCH_SIZE,\n",
    "                          epochs=100, validation_data=(X_test, y_test), verbose=2)"
   ]
  },
  {
   "cell_type": "code",
   "execution_count": null,
   "metadata": {},
   "outputs": [],
   "source": [
    "import matplotlib.pyplot as plt\n",
    "%matplotlib inline\n",
    "\n",
    "\n",
    "plt.figure(figsize=(9,9))\n",
    "plt.plot(hist.history[\"loss\"])\n",
    "plt.plot(hist.history[\"val_mean_absolute_error\"])\n",
    "plt.show()"
   ]
  },
  {
   "cell_type": "code",
   "execution_count": null,
   "metadata": {},
   "outputs": [],
   "source": [
    "r = 2\n",
    "print(\"prediction : {}, Truth : {} \".format(model.predict(X_test)[r], y_test[r]))"
   ]
  },
  {
   "cell_type": "code",
   "execution_count": null,
   "metadata": {},
   "outputs": [],
   "source": []
  },
  {
   "cell_type": "code",
   "execution_count": null,
   "metadata": {},
   "outputs": [],
   "source": []
  }
 ],
 "metadata": {
  "kernelspec": {
   "display_name": "Python 3",
   "language": "python",
   "name": "python3"
  },
  "language_info": {
   "codemirror_mode": {
    "name": "ipython",
    "version": 3
   },
   "file_extension": ".py",
   "mimetype": "text/x-python",
   "name": "python",
   "nbconvert_exporter": "python",
   "pygments_lexer": "ipython3",
   "version": "3.6.3"
  }
 },
 "nbformat": 4,
 "nbformat_minor": 2
}
