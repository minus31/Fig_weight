{
 "cells": [
  {
   "cell_type": "markdown",
   "metadata": {},
   "source": [
    "## Keras model - Deeper2\n",
    "---- \n",
    "* **Why Keras ? **\n",
    "\n",
    "\n",
    " > 실질적으로 풀려는 문제가 풀리는 문제 일까 아닐까를 정의가 안된 시점에서, 얕은 모델 부터 깊고 복잡한 모델까지 모두 실험해 보기 위해서 모델을 만들고 러닝 하여, 결과를 확인하는 과정에 사이클을 짧게 하기위함이 첫번째 이유이고, 두번째는 데이터를 직접 resizing하지 않아서 tfrecord로 파싱하는데 오류가 있었기 때문이다. \n",
    " \n",
    "* **현재 모델**\n",
    "> **VGG alike** : 맨 처음 1x1conv layer로 gray scals 을 만들고 다음 VGG와 비슷한 구조로 conv을 수행한 후 FCN으로 넘어간다. \n",
    "\n",
    "\n",
    "> Deeper와 다른점 \n",
    " 1.Dense layer 한 개 추가 \n",
    " 2.1x1 제거 \n"
   ]
  },
  {
   "cell_type": "code",
   "execution_count": 3,
   "metadata": {
    "ExecuteTime": {
     "end_time": "2018-07-19T06:12:11.291761Z",
     "start_time": "2018-07-19T06:12:10.911287Z"
    }
   },
   "outputs": [],
   "source": [
    "import numpy as np \n",
    "import pickle \n",
    "\n",
    "# load dataset \n",
    "# with open('../sample_image/sample560_crop_df.bin', 'rb') as f :\n",
    "#     crop_img = pickle.load(f)\n",
    "\n",
    "with open('../sample_image/final_df.bin', 'rb') as f :\n",
    "    crop_img = pickle.load(f)\n",
    "\n",
    "    \n",
    "X = np.array([i for i in crop_img.crop_img_05])\n",
    "y = crop_img.weight.values"
   ]
  },
  {
   "cell_type": "code",
   "execution_count": 5,
   "metadata": {},
   "outputs": [],
   "source": [
    "y = crop_img.weight.values"
   ]
  },
  {
   "cell_type": "code",
   "execution_count": 13,
   "metadata": {
    "ExecuteTime": {
     "end_time": "2018-07-19T06:11:34.537645Z",
     "start_time": "2018-07-19T06:11:34.534913Z"
    }
   },
   "outputs": [],
   "source": [
    "#Parameters \n",
    "\n",
    "BATCH_SIZE = 24"
   ]
  },
  {
   "cell_type": "code",
   "execution_count": 14,
   "metadata": {
    "ExecuteTime": {
     "end_time": "2018-07-19T06:11:35.445478Z",
     "start_time": "2018-07-19T06:11:35.246851Z"
    }
   },
   "outputs": [],
   "source": [
    "### test/train split \n",
    "idx = list(np.random.randint(0, len(X), int(len(X) * 0.8)))\n",
    "test_idx = list(set(list(range(len(X)))) - set(idx))\n",
    "\n",
    "X_train = X[idx]\n",
    "y_train = y[idx]\n",
    "X_test = X[test_idx]\n",
    "y_test = y[test_idx]"
   ]
  },
  {
   "cell_type": "code",
   "execution_count": 15,
   "metadata": {
    "ExecuteTime": {
     "end_time": "2018-07-19T06:11:48.377654Z",
     "start_time": "2018-07-19T06:11:37.694959Z"
    }
   },
   "outputs": [
    {
     "name": "stderr",
     "output_type": "stream",
     "text": [
      "Using TensorFlow backend.\n"
     ]
    }
   ],
   "source": [
    "# image augmentation \n",
    "from keras.preprocessing.image import ImageDataGenerator\n",
    "\n",
    "gen = ImageDataGenerator(\n",
    "        rotation_range=40,\n",
    "        width_shift_range=0.2,\n",
    "        height_shift_range=0.2,\n",
    "        rescale=1./255,\n",
    "        shear_range=0.2,\n",
    "        zoom_range=0.2,\n",
    "        horizontal_flip=True,\n",
    "        fill_mode='nearest')\n",
    "\n",
    "gen.fit(X_train, augment=True)"
   ]
  },
  {
   "cell_type": "code",
   "execution_count": 33,
   "metadata": {
    "ExecuteTime": {
     "end_time": "2018-07-18T16:16:50.173918Z",
     "start_time": "2018-07-18T16:16:49.619628Z"
    }
   },
   "outputs": [],
   "source": [
    "from keras.models import Sequential\n",
    "from keras.layers.core import Dense\n",
    "from keras.optimizers import SGD\n",
    "from keras.layers import Dropout\n",
    "from keras import regularizers\n",
    "from keras.layers import Conv2D, MaxPooling2D, Flatten, Dense, Dropout, BatchNormalization\n",
    "from keras.regularizers import l2\n",
    "\n",
    "\n",
    "def cnn_model():\n",
    "    model = Sequential()\n",
    "    #  first layer for making images to the gray scale images, more precisely \n",
    "#     model.add(Conv2D(1, (1, 1), activation='relu', input_shape=(125, 255, 3), padding='same', kernel_regularizer=l2(0.001)))\n",
    "\n",
    "    # \n",
    "    model.add(Conv2D(32, (5, 5), activation='relu', padding='same', input_shape=(125, 275, 3), kernel_regularizer=l2(0.001)))\n",
    "    model.add(Conv2D(32, (5, 5), activation='relu', padding='same'))\n",
    "    model.add(BatchNormalization())\n",
    "    model.add(MaxPooling2D())\n",
    "\n",
    "    model.add(Conv2D(32, (5, 5), activation='relu', padding='same', kernel_regularizer=l2(0.001)))\n",
    "    model.add(Conv2D(32, (5, 5), activation='relu', padding='same', kernel_regularizer=l2(0.001)))\n",
    "    model.add(BatchNormalization())\n",
    "    model.add(MaxPooling2D())\n",
    "    \n",
    "    model.add(Conv2D(32, (5, 5), activation='relu', padding='same', kernel_regularizer=l2(0.001)))\n",
    "    model.add(Conv2D(32, (5, 5), activation='relu', padding='same', kernel_regularizer=l2(0.001)))\n",
    "    model.add(BatchNormalization())\n",
    "    model.add(MaxPooling2D())\n",
    "\n",
    "    model.add(Conv2D(64, (5, 5), activation='relu', padding='same', kernel_regularizer=l2(0.001)))\n",
    "    model.add(Conv2D(64, (5, 5), activation='relu', padding='same', kernel_regularizer=l2(0.001)))\n",
    "    model.add(BatchNormalization())\n",
    "    model.add(MaxPooling2D())\n",
    "\n",
    "    model.add(Flatten())\n",
    "#     model.add(Dense(500, activation='relu', kernel_regularizer=l2(0.001)))\n",
    "#     model.add(Dropout(0.5))\n",
    "    model.add(Dense(200, activation='relu', kernel_regularizer=l2(0.001)))\n",
    "    model.add(Dropout(0.5))\n",
    "    model.add(Dense(1, activation='relu'))\n",
    "    return model \n",
    "\n"
   ]
  },
  {
   "cell_type": "code",
   "execution_count": 34,
   "metadata": {
    "ExecuteTime": {
     "end_time": "2018-07-18T16:16:51.634786Z",
     "start_time": "2018-07-18T16:16:51.603617Z"
    }
   },
   "outputs": [],
   "source": [
    "from keras.utils.training_utils import multi_gpu_model\n",
    "\n",
    "model = cnn_model()\n",
    "model = multi_gpu_model(model, gpus=2)\n",
    "model.compile(loss='mean_squared_error', optimizer='adadelta', metrics=['mae'])"
   ]
  },
  {
   "cell_type": "code",
   "execution_count": 35,
   "metadata": {
    "ExecuteTime": {
     "end_time": "2018-07-19T06:11:25.836545Z",
     "start_time": "2018-07-19T06:11:25.577697Z"
    }
   },
   "outputs": [
    {
     "name": "stdout",
     "output_type": "stream",
     "text": [
      "Epoch 1/200\n",
      " - 8s - loss: 2495.5730 - mean_absolute_error: 39.5988 - val_loss: 9336572482.0645 - val_mean_absolute_error: 96459.8180\n",
      "Epoch 2/200\n",
      " - 4s - loss: 614.6873 - mean_absolute_error: 19.2886 - val_loss: 3534007254.7097 - val_mean_absolute_error: 59319.9268\n",
      "Epoch 3/200\n",
      " - 4s - loss: 351.1324 - mean_absolute_error: 15.1692 - val_loss: 2519848200.2581 - val_mean_absolute_error: 50099.1764\n",
      "Epoch 4/200\n",
      " - 4s - loss: 323.9229 - mean_absolute_error: 14.4131 - val_loss: 2106873913.8065 - val_mean_absolute_error: 45790.8300\n",
      "Epoch 5/200\n",
      " - 4s - loss: 389.5905 - mean_absolute_error: 15.7238 - val_loss: 1004589685.6774 - val_mean_absolute_error: 31603.0554\n",
      "Epoch 6/200\n",
      " - 4s - loss: 330.6545 - mean_absolute_error: 14.7842 - val_loss: 1788580029.9355 - val_mean_absolute_error: 42165.1155\n",
      "Epoch 7/200\n",
      " - 4s - loss: 336.1355 - mean_absolute_error: 14.5824 - val_loss: 174701686.1935 - val_mean_absolute_error: 13135.1391\n",
      "Epoch 8/200\n",
      " - 4s - loss: 390.5811 - mean_absolute_error: 15.5456 - val_loss: 2608467612.9032 - val_mean_absolute_error: 50925.1682\n",
      "Epoch 9/200\n",
      " - 4s - loss: 343.2264 - mean_absolute_error: 14.6835 - val_loss: 5401372275.6129 - val_mean_absolute_error: 73333.1305\n",
      "Epoch 10/200\n",
      " - 4s - loss: 341.8927 - mean_absolute_error: 14.5470 - val_loss: 1944330512.5161 - val_mean_absolute_error: 43964.9428\n",
      "Epoch 11/200\n",
      " - 4s - loss: 399.4830 - mean_absolute_error: 16.1845 - val_loss: 1332454804.6452 - val_mean_absolute_error: 36411.4924\n",
      "Epoch 12/200\n",
      " - 4s - loss: 409.6127 - mean_absolute_error: 16.2594 - val_loss: 2706212219.8710 - val_mean_absolute_error: 51884.5699\n",
      "Epoch 13/200\n",
      " - 4s - loss: 375.9616 - mean_absolute_error: 15.3057 - val_loss: 4298896582.1935 - val_mean_absolute_error: 65411.1789\n",
      "Epoch 14/200\n",
      " - 4s - loss: 347.1919 - mean_absolute_error: 14.6578 - val_loss: 1766542534.1935 - val_mean_absolute_error: 41925.8240\n",
      "Epoch 15/200\n",
      " - 4s - loss: 256.6972 - mean_absolute_error: 12.5062 - val_loss: 2025158821.1613 - val_mean_absolute_error: 44881.3498\n",
      "Epoch 16/200\n",
      " - 4s - loss: 332.1912 - mean_absolute_error: 14.6074 - val_loss: 19699338570.3226 - val_mean_absolute_error: 140030.7936\n",
      "Epoch 17/200\n",
      " - 4s - loss: 395.8324 - mean_absolute_error: 15.6084 - val_loss: 2109573615.4839 - val_mean_absolute_error: 45779.6101\n",
      "Epoch 18/200\n",
      " - 4s - loss: 360.0546 - mean_absolute_error: 15.0822 - val_loss: 1478125952.0000 - val_mean_absolute_error: 38342.4514\n",
      "Epoch 19/200\n",
      " - 4s - loss: 386.1896 - mean_absolute_error: 15.8270 - val_loss: 4271720836.1290 - val_mean_absolute_error: 65220.6546\n",
      "Epoch 20/200\n",
      " - 4s - loss: 288.5308 - mean_absolute_error: 13.6101 - val_loss: 3112020934.1935 - val_mean_absolute_error: 55685.1935\n",
      "Epoch 21/200\n",
      " - 4s - loss: 280.1539 - mean_absolute_error: 13.4052 - val_loss: 3704747660.3871 - val_mean_absolute_error: 60709.4142\n",
      "Epoch 22/200\n",
      " - 4s - loss: 304.4588 - mean_absolute_error: 14.0778 - val_loss: 2123032749.4194 - val_mean_absolute_error: 45965.5471\n",
      "Epoch 23/200\n",
      " - 4s - loss: 294.3938 - mean_absolute_error: 13.5503 - val_loss: 2577415927.7419 - val_mean_absolute_error: 50653.9560\n",
      "Epoch 24/200\n",
      " - 4s - loss: 299.2238 - mean_absolute_error: 13.8599 - val_loss: 1406757363.6129 - val_mean_absolute_error: 37438.0586\n",
      "Epoch 25/200\n",
      " - 4s - loss: 267.8299 - mean_absolute_error: 13.2506 - val_loss: 2642744823.7419 - val_mean_absolute_error: 51299.7189\n",
      "Epoch 26/200\n",
      " - 4s - loss: 276.6908 - mean_absolute_error: 13.1967 - val_loss: 1241040289.0323 - val_mean_absolute_error: 35138.2742\n",
      "Epoch 27/200\n",
      " - 4s - loss: 291.6925 - mean_absolute_error: 13.3499 - val_loss: 2095681639.2258 - val_mean_absolute_error: 45702.5320\n",
      "Epoch 28/200\n",
      " - 4s - loss: 325.9948 - mean_absolute_error: 14.5123 - val_loss: 1608156568.7742 - val_mean_absolute_error: 40025.0721\n",
      "Epoch 29/200\n",
      " - 4s - loss: 275.7589 - mean_absolute_error: 13.4939 - val_loss: 239443867.8710 - val_mean_absolute_error: 15439.5355\n",
      "Epoch 30/200\n",
      " - 4s - loss: 283.3267 - mean_absolute_error: 13.6273 - val_loss: 826009174.7097 - val_mean_absolute_error: 28681.8512\n",
      "Epoch 31/200\n",
      " - 4s - loss: 245.1037 - mean_absolute_error: 12.4118 - val_loss: 335814326.7097 - val_mean_absolute_error: 18270.3681\n",
      "Epoch 32/200\n",
      " - 4s - loss: 329.9206 - mean_absolute_error: 14.5818 - val_loss: 122136815.4839 - val_mean_absolute_error: 11027.8478\n",
      "Epoch 33/200\n",
      " - 4s - loss: 305.1588 - mean_absolute_error: 14.4725 - val_loss: 940179864.7742 - val_mean_absolute_error: 30572.0687\n",
      "Epoch 34/200\n",
      " - 4s - loss: 283.4200 - mean_absolute_error: 13.5016 - val_loss: 1060314167.7419 - val_mean_absolute_error: 32381.6678\n",
      "Epoch 35/200\n",
      " - 4s - loss: 259.9596 - mean_absolute_error: 12.7723 - val_loss: 362394533.1613 - val_mean_absolute_error: 18964.5158\n",
      "Epoch 36/200\n",
      " - 4s - loss: 312.4822 - mean_absolute_error: 14.1157 - val_loss: 221532001.5484 - val_mean_absolute_error: 14836.0358\n",
      "Epoch 37/200\n",
      " - 4s - loss: 263.6638 - mean_absolute_error: 12.9061 - val_loss: 1075301039.4839 - val_mean_absolute_error: 32726.5548\n",
      "Epoch 38/200\n",
      " - 4s - loss: 268.1905 - mean_absolute_error: 12.9610 - val_loss: 579512475.8710 - val_mean_absolute_error: 24020.5704\n",
      "Epoch 39/200\n",
      " - 4s - loss: 292.3404 - mean_absolute_error: 13.6802 - val_loss: 715338700.3871 - val_mean_absolute_error: 26687.5096\n",
      "Epoch 40/200\n",
      " - 4s - loss: 236.0781 - mean_absolute_error: 12.3775 - val_loss: 337480908.3871 - val_mean_absolute_error: 18319.0873\n",
      "Epoch 41/200\n",
      " - 4s - loss: 240.4008 - mean_absolute_error: 12.3730 - val_loss: 1149597830.1935 - val_mean_absolute_error: 33837.5631\n",
      "Epoch 42/200\n",
      " - 4s - loss: 272.2225 - mean_absolute_error: 13.3082 - val_loss: 671303828.6452 - val_mean_absolute_error: 25852.9266\n",
      "Epoch 43/200\n",
      " - 4s - loss: 283.4642 - mean_absolute_error: 13.5470 - val_loss: 414013762.0645 - val_mean_absolute_error: 20298.9756\n",
      "Epoch 44/200\n",
      " - 4s - loss: 305.7477 - mean_absolute_error: 13.8717 - val_loss: 1348620003.0968 - val_mean_absolute_error: 36659.0878\n",
      "Epoch 45/200\n",
      " - 4s - loss: 281.6027 - mean_absolute_error: 13.4159 - val_loss: 381126544.5161 - val_mean_absolute_error: 19462.1388\n",
      "Epoch 46/200\n",
      " - 4s - loss: 343.5267 - mean_absolute_error: 14.6167 - val_loss: 845772131.0968 - val_mean_absolute_error: 29002.4646\n",
      "Epoch 47/200\n",
      " - 4s - loss: 243.9529 - mean_absolute_error: 12.5562 - val_loss: 78171169.0323 - val_mean_absolute_error: 8814.5769\n",
      "Epoch 48/200\n",
      " - 4s - loss: 212.6491 - mean_absolute_error: 11.4305 - val_loss: 181460574.9677 - val_mean_absolute_error: 13424.6804\n",
      "Epoch 49/200\n",
      " - 4s - loss: 265.6304 - mean_absolute_error: 12.9223 - val_loss: 444714693.1613 - val_mean_absolute_error: 21001.3702\n",
      "Epoch 50/200\n",
      " - 4s - loss: 215.5373 - mean_absolute_error: 11.5012 - val_loss: 71691281.2903 - val_mean_absolute_error: 8430.9299\n",
      "Epoch 51/200\n",
      " - 4s - loss: 281.6544 - mean_absolute_error: 13.0998 - val_loss: 151012837.1613 - val_mean_absolute_error: 12226.5877\n",
      "Epoch 52/200\n",
      " - 4s - loss: 228.2897 - mean_absolute_error: 12.0051 - val_loss: 17921093.7419 - val_mean_absolute_error: 4092.0180\n",
      "Epoch 53/200\n",
      " - 4s - loss: 219.8244 - mean_absolute_error: 11.6916 - val_loss: 29918941.4839 - val_mean_absolute_error: 5434.7582\n",
      "Epoch 54/200\n",
      " - 4s - loss: 288.0669 - mean_absolute_error: 13.1119 - val_loss: 13616880.7097 - val_mean_absolute_error: 3671.3130\n",
      "Epoch 55/200\n",
      " - 4s - loss: 283.8112 - mean_absolute_error: 13.3581 - val_loss: 196358795.3548 - val_mean_absolute_error: 13973.3438\n",
      "Epoch 56/200\n",
      " - 4s - loss: 274.9998 - mean_absolute_error: 12.8280 - val_loss: 332785775.4839 - val_mean_absolute_error: 18194.0236\n",
      "Epoch 57/200\n",
      " - 4s - loss: 227.6288 - mean_absolute_error: 11.6927 - val_loss: 142617835.6129 - val_mean_absolute_error: 11898.8493\n",
      "Epoch 58/200\n",
      " - 4s - loss: 216.5291 - mean_absolute_error: 11.4999 - val_loss: 215679880.2581 - val_mean_absolute_error: 14627.8485\n",
      "Epoch 59/200\n",
      " - 4s - loss: 211.0831 - mean_absolute_error: 11.6961 - val_loss: 211419201.5484 - val_mean_absolute_error: 14475.4833\n",
      "Epoch 60/200\n",
      " - 4s - loss: 198.8695 - mean_absolute_error: 11.3092 - val_loss: 97533187.3548 - val_mean_absolute_error: 9838.0279\n",
      "Epoch 61/200\n",
      " - 4s - loss: 205.5665 - mean_absolute_error: 11.6065 - val_loss: 232866276.1290 - val_mean_absolute_error: 15200.1825\n",
      "Epoch 62/200\n",
      " - 4s - loss: 249.3652 - mean_absolute_error: 12.4895 - val_loss: 280677540.6452 - val_mean_absolute_error: 16679.1486\n"
     ]
    },
    {
     "name": "stdout",
     "output_type": "stream",
     "text": [
      "Epoch 63/200\n",
      " - 4s - loss: 277.0155 - mean_absolute_error: 13.5824 - val_loss: 236581622.7097 - val_mean_absolute_error: 15322.5679\n",
      "Epoch 64/200\n",
      " - 4s - loss: 243.4490 - mean_absolute_error: 12.3706 - val_loss: 564085241.8065 - val_mean_absolute_error: 23488.5159\n",
      "Epoch 65/200\n",
      " - 4s - loss: 256.5140 - mean_absolute_error: 13.0096 - val_loss: 861190670.4516 - val_mean_absolute_error: 29204.2445\n",
      "Epoch 66/200\n",
      " - 4s - loss: 239.1160 - mean_absolute_error: 12.3225 - val_loss: 304737113.2903 - val_mean_absolute_error: 17407.6771\n",
      "Epoch 67/200\n",
      " - 4s - loss: 249.9849 - mean_absolute_error: 12.4981 - val_loss: 494916176.5161 - val_mean_absolute_error: 22151.1930\n",
      "Epoch 68/200\n",
      " - 4s - loss: 212.0340 - mean_absolute_error: 11.3627 - val_loss: 54641309.0323 - val_mean_absolute_error: 7360.0208\n",
      "Epoch 69/200\n",
      " - 4s - loss: 233.5149 - mean_absolute_error: 12.1045 - val_loss: 67836490.8387 - val_mean_absolute_error: 8202.8584\n",
      "Epoch 70/200\n",
      " - 4s - loss: 262.9038 - mean_absolute_error: 12.8819 - val_loss: 40009106.7097 - val_mean_absolute_error: 6306.2719\n",
      "Epoch 71/200\n",
      " - 4s - loss: 217.0509 - mean_absolute_error: 11.8118 - val_loss: 131004747.3548 - val_mean_absolute_error: 11400.9949\n",
      "Epoch 72/200\n",
      " - 4s - loss: 208.8979 - mean_absolute_error: 11.4995 - val_loss: 46412277.5484 - val_mean_absolute_error: 6792.5706\n",
      "Epoch 73/200\n",
      " - 4s - loss: 212.9954 - mean_absolute_error: 11.7730 - val_loss: 347847875.0968 - val_mean_absolute_error: 18588.0350\n",
      "Epoch 74/200\n",
      " - 4s - loss: 235.8044 - mean_absolute_error: 12.1576 - val_loss: 22113069.5484 - val_mean_absolute_error: 4687.0268\n",
      "Epoch 75/200\n",
      " - 4s - loss: 217.6334 - mean_absolute_error: 11.7918 - val_loss: 24798587.2258 - val_mean_absolute_error: 4968.2205\n",
      "Epoch 76/200\n",
      " - 4s - loss: 272.2677 - mean_absolute_error: 13.2605 - val_loss: 123152131.6129 - val_mean_absolute_error: 11076.1768\n",
      "Epoch 77/200\n",
      " - 4s - loss: 221.5967 - mean_absolute_error: 11.7861 - val_loss: 60421215.0968 - val_mean_absolute_error: 7752.1845\n",
      "Epoch 78/200\n",
      " - 4s - loss: 206.0337 - mean_absolute_error: 11.3176 - val_loss: 73500358.0645 - val_mean_absolute_error: 8543.9084\n",
      "Epoch 79/200\n",
      " - 4s - loss: 200.4244 - mean_absolute_error: 11.1993 - val_loss: 56534029.4194 - val_mean_absolute_error: 7499.9014\n",
      "Epoch 80/200\n",
      " - 4s - loss: 274.4395 - mean_absolute_error: 13.1970 - val_loss: 107184833.0323 - val_mean_absolute_error: 10323.3106\n",
      "Epoch 81/200\n",
      " - 4s - loss: 233.6221 - mean_absolute_error: 12.1811 - val_loss: 63777992.5161 - val_mean_absolute_error: 7966.1989\n",
      "Epoch 82/200\n",
      " - 4s - loss: 211.9167 - mean_absolute_error: 11.4764 - val_loss: 71198976.2581 - val_mean_absolute_error: 8416.2035\n",
      "Epoch 83/200\n",
      " - 4s - loss: 230.2454 - mean_absolute_error: 12.1314 - val_loss: 293980460.3871 - val_mean_absolute_error: 17099.6601\n",
      "Epoch 84/200\n",
      " - 4s - loss: 206.0437 - mean_absolute_error: 11.4906 - val_loss: 129473730.3226 - val_mean_absolute_error: 11349.8304\n",
      "Epoch 85/200\n",
      " - 4s - loss: 238.1480 - mean_absolute_error: 12.1818 - val_loss: 156707412.6452 - val_mean_absolute_error: 12480.5975\n",
      "Epoch 86/200\n",
      " - 4s - loss: 214.3090 - mean_absolute_error: 11.5307 - val_loss: 115759244.3871 - val_mean_absolute_error: 10728.4302\n",
      "Epoch 87/200\n",
      " - 4s - loss: 194.9933 - mean_absolute_error: 11.2063 - val_loss: 91270291.6129 - val_mean_absolute_error: 9517.1575\n",
      "Epoch 88/200\n",
      " - 4s - loss: 208.5147 - mean_absolute_error: 11.4575 - val_loss: 121110904.5161 - val_mean_absolute_error: 10947.5564\n",
      "Epoch 89/200\n",
      " - 4s - loss: 233.7019 - mean_absolute_error: 12.0188 - val_loss: 129145454.7097 - val_mean_absolute_error: 11327.1207\n",
      "Epoch 90/200\n",
      " - 4s - loss: 175.2863 - mean_absolute_error: 10.7129 - val_loss: 63180424.0000 - val_mean_absolute_error: 7914.2818\n",
      "Epoch 91/200\n",
      " - 4s - loss: 216.4368 - mean_absolute_error: 11.8045 - val_loss: 61038870.0645 - val_mean_absolute_error: 7781.2579\n",
      "Epoch 92/200\n",
      " - 4s - loss: 181.4667 - mean_absolute_error: 10.6788 - val_loss: 47370593.8065 - val_mean_absolute_error: 6838.6612\n",
      "Epoch 93/200\n",
      " - 4s - loss: 213.5878 - mean_absolute_error: 11.6296 - val_loss: 55946309.0323 - val_mean_absolute_error: 7434.6305\n",
      "Epoch 94/200\n",
      " - 4s - loss: 201.2183 - mean_absolute_error: 11.3688 - val_loss: 79307969.9355 - val_mean_absolute_error: 8844.5925\n",
      "Epoch 95/200\n",
      " - 4s - loss: 194.3990 - mean_absolute_error: 11.1227 - val_loss: 13647335.9355 - val_mean_absolute_error: 3674.8566\n",
      "Epoch 96/200\n",
      " - 4s - loss: 233.3677 - mean_absolute_error: 12.1505 - val_loss: 120633280.0000 - val_mean_absolute_error: 10937.2599\n",
      "Epoch 97/200\n",
      " - 4s - loss: 271.3704 - mean_absolute_error: 13.1170 - val_loss: 30360414.7742 - val_mean_absolute_error: 5484.1770\n",
      "Epoch 98/200\n",
      " - 4s - loss: 183.8509 - mean_absolute_error: 10.9067 - val_loss: 13725236.5484 - val_mean_absolute_error: 3684.0482\n",
      "Epoch 99/200\n",
      " - 4s - loss: 234.8609 - mean_absolute_error: 12.3153 - val_loss: 26836631.1613 - val_mean_absolute_error: 5141.2929\n",
      "Epoch 100/200\n",
      " - 4s - loss: 202.6542 - mean_absolute_error: 11.0552 - val_loss: 365982182.1935 - val_mean_absolute_error: 19059.1562\n",
      "Epoch 101/200\n",
      " - 4s - loss: 224.6628 - mean_absolute_error: 11.8364 - val_loss: 221078299.8710 - val_mean_absolute_error: 14799.0990\n",
      "Epoch 102/200\n"
     ]
    },
    {
     "ename": "KeyboardInterrupt",
     "evalue": "",
     "output_type": "error",
     "traceback": [
      "\u001b[0;31m---------------------------------------------------------------------------\u001b[0m",
      "\u001b[0;31mKeyboardInterrupt\u001b[0m                         Traceback (most recent call last)",
      "\u001b[0;32m<timed exec>\u001b[0m in \u001b[0;36m<module>\u001b[0;34m()\u001b[0m\n",
      "\u001b[0;32m~/.pyenv/versions/3.6.3/envs/python3/lib/python3.6/site-packages/keras/legacy/interfaces.py\u001b[0m in \u001b[0;36mwrapper\u001b[0;34m(*args, **kwargs)\u001b[0m\n\u001b[1;32m     89\u001b[0m                 warnings.warn('Update your `' + object_name +\n\u001b[1;32m     90\u001b[0m                               '` call to the Keras 2 API: ' + signature, stacklevel=2)\n\u001b[0;32m---> 91\u001b[0;31m             \u001b[0;32mreturn\u001b[0m \u001b[0mfunc\u001b[0m\u001b[0;34m(\u001b[0m\u001b[0;34m*\u001b[0m\u001b[0margs\u001b[0m\u001b[0;34m,\u001b[0m \u001b[0;34m**\u001b[0m\u001b[0mkwargs\u001b[0m\u001b[0;34m)\u001b[0m\u001b[0;34m\u001b[0m\u001b[0m\n\u001b[0m\u001b[1;32m     92\u001b[0m         \u001b[0mwrapper\u001b[0m\u001b[0;34m.\u001b[0m\u001b[0m_original_function\u001b[0m \u001b[0;34m=\u001b[0m \u001b[0mfunc\u001b[0m\u001b[0;34m\u001b[0m\u001b[0m\n\u001b[1;32m     93\u001b[0m         \u001b[0;32mreturn\u001b[0m \u001b[0mwrapper\u001b[0m\u001b[0;34m\u001b[0m\u001b[0m\n",
      "\u001b[0;32m~/.pyenv/versions/3.6.3/envs/python3/lib/python3.6/site-packages/keras/engine/training.py\u001b[0m in \u001b[0;36mfit_generator\u001b[0;34m(self, generator, steps_per_epoch, epochs, verbose, callbacks, validation_data, validation_steps, class_weight, max_queue_size, workers, use_multiprocessing, shuffle, initial_epoch)\u001b[0m\n\u001b[1;32m   1424\u001b[0m             \u001b[0muse_multiprocessing\u001b[0m\u001b[0;34m=\u001b[0m\u001b[0muse_multiprocessing\u001b[0m\u001b[0;34m,\u001b[0m\u001b[0;34m\u001b[0m\u001b[0m\n\u001b[1;32m   1425\u001b[0m             \u001b[0mshuffle\u001b[0m\u001b[0;34m=\u001b[0m\u001b[0mshuffle\u001b[0m\u001b[0;34m,\u001b[0m\u001b[0;34m\u001b[0m\u001b[0m\n\u001b[0;32m-> 1426\u001b[0;31m             initial_epoch=initial_epoch)\n\u001b[0m\u001b[1;32m   1427\u001b[0m \u001b[0;34m\u001b[0m\u001b[0m\n\u001b[1;32m   1428\u001b[0m     \u001b[0;34m@\u001b[0m\u001b[0minterfaces\u001b[0m\u001b[0;34m.\u001b[0m\u001b[0mlegacy_generator_methods_support\u001b[0m\u001b[0;34m\u001b[0m\u001b[0m\n",
      "\u001b[0;32m~/.pyenv/versions/3.6.3/envs/python3/lib/python3.6/site-packages/keras/engine/training_generator.py\u001b[0m in \u001b[0;36mfit_generator\u001b[0;34m(model, generator, steps_per_epoch, epochs, verbose, callbacks, validation_data, validation_steps, class_weight, max_queue_size, workers, use_multiprocessing, shuffle, initial_epoch)\u001b[0m\n\u001b[1;32m    217\u001b[0m                             \u001b[0mbatch_size\u001b[0m\u001b[0;34m=\u001b[0m\u001b[0mbatch_size\u001b[0m\u001b[0;34m,\u001b[0m\u001b[0;34m\u001b[0m\u001b[0m\n\u001b[1;32m    218\u001b[0m                             \u001b[0msample_weight\u001b[0m\u001b[0;34m=\u001b[0m\u001b[0mval_sample_weights\u001b[0m\u001b[0;34m,\u001b[0m\u001b[0;34m\u001b[0m\u001b[0m\n\u001b[0;32m--> 219\u001b[0;31m                             verbose=0)\n\u001b[0m\u001b[1;32m    220\u001b[0m                     \u001b[0;32mif\u001b[0m \u001b[0;32mnot\u001b[0m \u001b[0misinstance\u001b[0m\u001b[0;34m(\u001b[0m\u001b[0mval_outs\u001b[0m\u001b[0;34m,\u001b[0m \u001b[0mlist\u001b[0m\u001b[0;34m)\u001b[0m\u001b[0;34m:\u001b[0m\u001b[0;34m\u001b[0m\u001b[0m\n\u001b[1;32m    221\u001b[0m                         \u001b[0mval_outs\u001b[0m \u001b[0;34m=\u001b[0m \u001b[0;34m[\u001b[0m\u001b[0mval_outs\u001b[0m\u001b[0;34m]\u001b[0m\u001b[0;34m\u001b[0m\u001b[0m\n",
      "\u001b[0;32m~/.pyenv/versions/3.6.3/envs/python3/lib/python3.6/site-packages/keras/engine/training.py\u001b[0m in \u001b[0;36mevaluate\u001b[0;34m(self, x, y, batch_size, verbose, sample_weight, steps)\u001b[0m\n\u001b[1;32m   1114\u001b[0m                                          \u001b[0mbatch_size\u001b[0m\u001b[0;34m=\u001b[0m\u001b[0mbatch_size\u001b[0m\u001b[0;34m,\u001b[0m\u001b[0;34m\u001b[0m\u001b[0m\n\u001b[1;32m   1115\u001b[0m                                          \u001b[0mverbose\u001b[0m\u001b[0;34m=\u001b[0m\u001b[0mverbose\u001b[0m\u001b[0;34m,\u001b[0m\u001b[0;34m\u001b[0m\u001b[0m\n\u001b[0;32m-> 1116\u001b[0;31m                                          steps=steps)\n\u001b[0m\u001b[1;32m   1117\u001b[0m \u001b[0;34m\u001b[0m\u001b[0m\n\u001b[1;32m   1118\u001b[0m     def predict(self, x,\n",
      "\u001b[0;32m~/.pyenv/versions/3.6.3/envs/python3/lib/python3.6/site-packages/keras/engine/training_arrays.py\u001b[0m in \u001b[0;36mtest_loop\u001b[0;34m(model, f, ins, batch_size, verbose, steps)\u001b[0m\n\u001b[1;32m    396\u001b[0m                 \u001b[0mins_batch\u001b[0m\u001b[0;34m[\u001b[0m\u001b[0mi\u001b[0m\u001b[0;34m]\u001b[0m \u001b[0;34m=\u001b[0m \u001b[0mins_batch\u001b[0m\u001b[0;34m[\u001b[0m\u001b[0mi\u001b[0m\u001b[0;34m]\u001b[0m\u001b[0;34m.\u001b[0m\u001b[0mtoarray\u001b[0m\u001b[0;34m(\u001b[0m\u001b[0;34m)\u001b[0m\u001b[0;34m\u001b[0m\u001b[0m\n\u001b[1;32m    397\u001b[0m \u001b[0;34m\u001b[0m\u001b[0m\n\u001b[0;32m--> 398\u001b[0;31m             \u001b[0mbatch_outs\u001b[0m \u001b[0;34m=\u001b[0m \u001b[0mf\u001b[0m\u001b[0;34m(\u001b[0m\u001b[0mins_batch\u001b[0m\u001b[0;34m)\u001b[0m\u001b[0;34m\u001b[0m\u001b[0m\n\u001b[0m\u001b[1;32m    399\u001b[0m             \u001b[0;32mif\u001b[0m \u001b[0misinstance\u001b[0m\u001b[0;34m(\u001b[0m\u001b[0mbatch_outs\u001b[0m\u001b[0;34m,\u001b[0m \u001b[0mlist\u001b[0m\u001b[0;34m)\u001b[0m\u001b[0;34m:\u001b[0m\u001b[0;34m\u001b[0m\u001b[0m\n\u001b[1;32m    400\u001b[0m                 \u001b[0;32mif\u001b[0m \u001b[0mbatch_index\u001b[0m \u001b[0;34m==\u001b[0m \u001b[0;36m0\u001b[0m\u001b[0;34m:\u001b[0m\u001b[0;34m\u001b[0m\u001b[0m\n",
      "\u001b[0;32m~/.pyenv/versions/3.6.3/envs/python3/lib/python3.6/site-packages/keras/backend/tensorflow_backend.py\u001b[0m in \u001b[0;36m__call__\u001b[0;34m(self, inputs)\u001b[0m\n\u001b[1;32m   2659\u001b[0m                 \u001b[0;32mreturn\u001b[0m \u001b[0mself\u001b[0m\u001b[0;34m.\u001b[0m\u001b[0m_legacy_call\u001b[0m\u001b[0;34m(\u001b[0m\u001b[0minputs\u001b[0m\u001b[0;34m)\u001b[0m\u001b[0;34m\u001b[0m\u001b[0m\n\u001b[1;32m   2660\u001b[0m \u001b[0;34m\u001b[0m\u001b[0m\n\u001b[0;32m-> 2661\u001b[0;31m             \u001b[0;32mreturn\u001b[0m \u001b[0mself\u001b[0m\u001b[0;34m.\u001b[0m\u001b[0m_call\u001b[0m\u001b[0;34m(\u001b[0m\u001b[0minputs\u001b[0m\u001b[0;34m)\u001b[0m\u001b[0;34m\u001b[0m\u001b[0m\n\u001b[0m\u001b[1;32m   2662\u001b[0m         \u001b[0;32melse\u001b[0m\u001b[0;34m:\u001b[0m\u001b[0;34m\u001b[0m\u001b[0m\n\u001b[1;32m   2663\u001b[0m             \u001b[0;32mif\u001b[0m \u001b[0mpy_any\u001b[0m\u001b[0;34m(\u001b[0m\u001b[0mis_tensor\u001b[0m\u001b[0;34m(\u001b[0m\u001b[0mx\u001b[0m\u001b[0;34m)\u001b[0m \u001b[0;32mfor\u001b[0m \u001b[0mx\u001b[0m \u001b[0;32min\u001b[0m \u001b[0minputs\u001b[0m\u001b[0;34m)\u001b[0m\u001b[0;34m:\u001b[0m\u001b[0;34m\u001b[0m\u001b[0m\n",
      "\u001b[0;32m~/.pyenv/versions/3.6.3/envs/python3/lib/python3.6/site-packages/keras/backend/tensorflow_backend.py\u001b[0m in \u001b[0;36m_call\u001b[0;34m(self, inputs)\u001b[0m\n\u001b[1;32m   2629\u001b[0m                                 \u001b[0msymbol_vals\u001b[0m\u001b[0;34m,\u001b[0m\u001b[0;34m\u001b[0m\u001b[0m\n\u001b[1;32m   2630\u001b[0m                                 session)\n\u001b[0;32m-> 2631\u001b[0;31m         \u001b[0mfetched\u001b[0m \u001b[0;34m=\u001b[0m \u001b[0mself\u001b[0m\u001b[0;34m.\u001b[0m\u001b[0m_callable_fn\u001b[0m\u001b[0;34m(\u001b[0m\u001b[0;34m*\u001b[0m\u001b[0marray_vals\u001b[0m\u001b[0;34m)\u001b[0m\u001b[0;34m\u001b[0m\u001b[0m\n\u001b[0m\u001b[1;32m   2632\u001b[0m         \u001b[0;32mreturn\u001b[0m \u001b[0mfetched\u001b[0m\u001b[0;34m[\u001b[0m\u001b[0;34m:\u001b[0m\u001b[0mlen\u001b[0m\u001b[0;34m(\u001b[0m\u001b[0mself\u001b[0m\u001b[0;34m.\u001b[0m\u001b[0moutputs\u001b[0m\u001b[0;34m)\u001b[0m\u001b[0;34m]\u001b[0m\u001b[0;34m\u001b[0m\u001b[0m\n\u001b[1;32m   2633\u001b[0m \u001b[0;34m\u001b[0m\u001b[0m\n",
      "\u001b[0;32m~/.pyenv/versions/3.6.3/envs/python3/lib/python3.6/site-packages/tensorflow/python/client/session.py\u001b[0m in \u001b[0;36m__call__\u001b[0;34m(self, *args)\u001b[0m\n\u001b[1;32m   1449\u001b[0m         \u001b[0;32mif\u001b[0m \u001b[0mself\u001b[0m\u001b[0;34m.\u001b[0m\u001b[0m_session\u001b[0m\u001b[0;34m.\u001b[0m\u001b[0m_created_with_new_api\u001b[0m\u001b[0;34m:\u001b[0m\u001b[0;34m\u001b[0m\u001b[0m\n\u001b[1;32m   1450\u001b[0m           return tf_session.TF_SessionRunCallable(\n\u001b[0;32m-> 1451\u001b[0;31m               self._session._session, self._handle, args, status, None)\n\u001b[0m\u001b[1;32m   1452\u001b[0m         \u001b[0;32melse\u001b[0m\u001b[0;34m:\u001b[0m\u001b[0;34m\u001b[0m\u001b[0m\n\u001b[1;32m   1453\u001b[0m           return tf_session.TF_DeprecatedSessionRunCallable(\n",
      "\u001b[0;31mKeyboardInterrupt\u001b[0m: "
     ]
    }
   ],
   "source": [
    "%%time\n",
    "hist = model.fit_generator(gen.flow(X_train, y_train, batch_size=BATCH_SIZE), \n",
    "                           steps_per_epoch=len(X_train)/BATCH_SIZE,\n",
    "                          epochs=200, validation_data=(X_test, y_test), verbose=2)"
   ]
  },
  {
   "cell_type": "code",
   "execution_count": 36,
   "metadata": {},
   "outputs": [
    {
     "ename": "NameError",
     "evalue": "name 'hist' is not defined",
     "output_type": "error",
     "traceback": [
      "\u001b[0;31m---------------------------------------------------------------------------\u001b[0m",
      "\u001b[0;31mNameError\u001b[0m                                 Traceback (most recent call last)",
      "\u001b[0;32m<ipython-input-36-9f8c5caf230b>\u001b[0m in \u001b[0;36m<module>\u001b[0;34m()\u001b[0m\n\u001b[1;32m      4\u001b[0m \u001b[0;34m\u001b[0m\u001b[0m\n\u001b[1;32m      5\u001b[0m \u001b[0mplt\u001b[0m\u001b[0;34m.\u001b[0m\u001b[0mfigure\u001b[0m\u001b[0;34m(\u001b[0m\u001b[0mfigsize\u001b[0m\u001b[0;34m=\u001b[0m\u001b[0;34m(\u001b[0m\u001b[0;36m9\u001b[0m\u001b[0;34m,\u001b[0m\u001b[0;36m9\u001b[0m\u001b[0;34m)\u001b[0m\u001b[0;34m)\u001b[0m\u001b[0;34m\u001b[0m\u001b[0m\n\u001b[0;32m----> 6\u001b[0;31m \u001b[0mplt\u001b[0m\u001b[0;34m.\u001b[0m\u001b[0mplot\u001b[0m\u001b[0;34m(\u001b[0m\u001b[0mhist\u001b[0m\u001b[0;34m.\u001b[0m\u001b[0mhistory\u001b[0m\u001b[0;34m[\u001b[0m\u001b[0;34m\"loss\"\u001b[0m\u001b[0;34m]\u001b[0m\u001b[0;34m)\u001b[0m\u001b[0;34m\u001b[0m\u001b[0m\n\u001b[0m\u001b[1;32m      7\u001b[0m \u001b[0mplt\u001b[0m\u001b[0;34m.\u001b[0m\u001b[0mplot\u001b[0m\u001b[0;34m(\u001b[0m\u001b[0mhist\u001b[0m\u001b[0;34m.\u001b[0m\u001b[0mhistory\u001b[0m\u001b[0;34m[\u001b[0m\u001b[0;34m\"val_mean_absolute_error\"\u001b[0m\u001b[0;34m]\u001b[0m\u001b[0;34m)\u001b[0m\u001b[0;34m\u001b[0m\u001b[0m\n\u001b[1;32m      8\u001b[0m \u001b[0mplt\u001b[0m\u001b[0;34m.\u001b[0m\u001b[0mshow\u001b[0m\u001b[0;34m(\u001b[0m\u001b[0;34m)\u001b[0m\u001b[0;34m\u001b[0m\u001b[0m\n",
      "\u001b[0;31mNameError\u001b[0m: name 'hist' is not defined"
     ]
    },
    {
     "data": {
      "text/plain": [
       "<Figure size 648x648 with 0 Axes>"
      ]
     },
     "metadata": {},
     "output_type": "display_data"
    }
   ],
   "source": [
    "import matplotlib.pyplot as plt\n",
    "%matplotlib inline\n",
    "\n",
    "\n",
    "plt.figure(figsize=(9,9))\n",
    "plt.plot(hist.history[\"loss\"])\n",
    "plt.plot(hist.history[\"val_mean_absolute_error\"])\n",
    "plt.show()"
   ]
  },
  {
   "cell_type": "code",
   "execution_count": null,
   "metadata": {},
   "outputs": [],
   "source": [
    "r = 2\n",
    "print(\"prediction : {}, Truth : {} \".format(model.predict(X_test)[r], y_test[r]))"
   ]
  },
  {
   "cell_type": "code",
   "execution_count": null,
   "metadata": {},
   "outputs": [],
   "source": []
  },
  {
   "cell_type": "code",
   "execution_count": null,
   "metadata": {},
   "outputs": [],
   "source": []
  },
  {
   "cell_type": "code",
   "execution_count": null,
   "metadata": {},
   "outputs": [],
   "source": []
  }
 ],
 "metadata": {
  "kernelspec": {
   "display_name": "Python 3",
   "language": "python",
   "name": "python3"
  },
  "language_info": {
   "codemirror_mode": {
    "name": "ipython",
    "version": 3
   },
   "file_extension": ".py",
   "mimetype": "text/x-python",
   "name": "python",
   "nbconvert_exporter": "python",
   "pygments_lexer": "ipython3",
   "version": "3.6.3"
  }
 },
 "nbformat": 4,
 "nbformat_minor": 2
}
