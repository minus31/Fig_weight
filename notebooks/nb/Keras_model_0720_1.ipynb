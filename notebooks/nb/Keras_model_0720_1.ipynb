{
 "cells": [
  {
   "cell_type": "markdown",
   "metadata": {},
   "source": [
    "## Keras model - Deeper2\n",
    "---- \n",
    "\n",
    "* **features**\n",
    "\n",
    "> - 1. Three layers of Convolution block(VGG alike; conv + conv + pooling ~ activation == relu)\n",
    "> - 2. one of FCN layer with *200* nodes, activation = elu \n",
    ">      >  * $elu(x) = \\exp{(\\mathbf{x})} \\ if \\ x < 0, \\  else \\ \\mathbf{x}$\n",
    "> - 3. NO 1x1 conv, which was for making it to gray scaled  \n",
    "> - 4. Using image size = 250, 550, 3 "
   ]
  },
  {
   "cell_type": "code",
   "execution_count": 20,
   "metadata": {
    "ExecuteTime": {
     "end_time": "2018-07-18T16:16:39.578594Z",
     "start_time": "2018-07-18T16:16:38.974571Z"
    }
   },
   "outputs": [],
   "source": [
    "import numpy as np \n",
    "import pickle \n",
    "\n",
    "with open('../sample_image/sample560_crop_df.bin', 'rb') as f :\n",
    "    crop_img = pickle.load(f)\n",
    "    \n",
    "X = np.array([i for i in crop_img.crop_images])\n",
    "y = crop_img.weight.values\n",
    "\n",
    "# idx = list(np.random.randint(0, len(X), int(len(X) * 0.8)))\n",
    "# test_idx = list(set(list(range(len(X)))) - set(idx))\n",
    "idx = list(np.random.choice(range(len(X)), int(len(X) * 0.8), replace=False))\n",
    "test_idx = list(set(list(range(len(X)))) - set(idx))\n",
    "\n",
    "\n",
    "X_train = X[idx]\n",
    "y_train = y[idx]\n",
    "\n",
    "X_test = X[test_idx]\n",
    "y_test = y[test_idx]\n"
   ]
  },
  {
   "cell_type": "markdown",
   "metadata": {},
   "source": [
    "### Parameters "
   ]
  },
  {
   "cell_type": "code",
   "execution_count": 21,
   "metadata": {},
   "outputs": [],
   "source": [
    "BATCH_SIZE = 24 \n",
    "LOSS = \"mean_squared_error\"\n",
    "OPTIMIZER = [\"adagrad\", \"adadelta\", \"adam\", \"adamax\", \"rmsprob\"]\n"
   ]
  },
  {
   "cell_type": "markdown",
   "metadata": {},
   "source": [
    "### Model Architecture"
   ]
  },
  {
   "cell_type": "code",
   "execution_count": 22,
   "metadata": {
    "ExecuteTime": {
     "end_time": "2018-07-18T16:16:50.173918Z",
     "start_time": "2018-07-18T16:16:49.619628Z"
    }
   },
   "outputs": [],
   "source": [
    "from keras.models import Sequential\n",
    "from keras.layers.core import Dense\n",
    "from keras.optimizers import SGD\n",
    "from keras.layers import Dropout\n",
    "from keras import regularizers \n",
    "from keras.layers import Conv2D, MaxPooling2D, Flatten, Dense, Dropout, BatchNormalization\n",
    "from keras.regularizers import l2\n",
    "\n",
    "\n",
    "def cnn_model():\n",
    "    model = Sequential()\n",
    "    #  first layer for making images to the gray scale images, more precisely \n",
    "    # model.add(Conv2D(1, (1, 1), activation='relu', input_shape=(250, 550, 3), padding='same', kernel_regularizer=l2(0.001)))\n",
    "\n",
    "    # \n",
    "    model.add(Conv2D(32, (7, 7), activation='relu', padding='same', input_shape=(250, 550, 3), kernel_regularizer=l2(0.001)))\n",
    "    model.add(Conv2D(32, (7, 7), activation='relu', padding='same'))\n",
    "    model.add(BatchNormalization())\n",
    "    model.add(MaxPooling2D())\n",
    "\n",
    "    model.add(Conv2D(64, (7, 7), activation='relu', padding='same', kernel_regularizer=l2(0.001)))\n",
    "    model.add(Conv2D(64, (7, 7), activation='relu', padding='same', kernel_regularizer=l2(0.001)))\n",
    "    model.add(BatchNormalization())\n",
    "    model.add(MaxPooling2D())\n",
    "\n",
    "    model.add(Conv2D(64, (7, 7), activation='relu', padding='same', kernel_regularizer=l2(0.001)))\n",
    "    model.add(Conv2D(64, (7, 7), activation='relu', padding='same', kernel_regularizer=l2(0.001)))\n",
    "    model.add(BatchNormalization())\n",
    "    model.add(MaxPooling2D())\n",
    "    \n",
    "    model.add(Conv2D(64, (5, 5), activation='relu', padding='same', kernel_regularizer=l2(0.001)))\n",
    "    model.add(Conv2D(64, (5, 5), activation='relu', padding='same', kernel_regularizer=l2(0.001)))\n",
    "    model.add(BatchNormalization())\n",
    "    model.add(MaxPooling2D())\n",
    "\n",
    "    model.add(Flatten())\n",
    "    model.add(Dense(127, activation='elu', kernel_regularizer=l2(0.001)))\n",
    "    model.add(Dropout(0.5))\n",
    "    model.add(Dense(1, activation='elu'))\n",
    "    \n",
    "    return model "
   ]
  },
  {
   "cell_type": "code",
   "execution_count": 23,
   "metadata": {
    "ExecuteTime": {
     "end_time": "2018-07-18T16:16:51.634786Z",
     "start_time": "2018-07-18T16:16:51.603617Z"
    }
   },
   "outputs": [],
   "source": [
    "from keras.utils.training_utils import multi_gpu_model\n",
    "\n",
    "model = cnn_model()\n",
    "model = multi_gpu_model(model, gpus=2)\n",
    "model.compile(loss='mean_squared_error', optimizer='adam', metrics=['mae'])"
   ]
  },
  {
   "cell_type": "code",
   "execution_count": 24,
   "metadata": {
    "ExecuteTime": {
     "start_time": "2018-07-18T16:16:54.099Z"
    }
   },
   "outputs": [
    {
     "name": "stdout",
     "output_type": "stream",
     "text": [
      "Train on 448 samples, validate on 112 samples\n",
      "Epoch 1/50\n",
      " - 34s - loss: 1844.2404 - mean_absolute_error: 31.6853 - val_loss: 1305483.7143 - val_mean_absolute_error: 1132.1017\n",
      "Epoch 2/50\n",
      " - 30s - loss: 416.4648 - mean_absolute_error: 16.5403 - val_loss: 136232.6708 - val_mean_absolute_error: 363.4231\n",
      "Epoch 3/50\n",
      " - 29s - loss: 488.7251 - mean_absolute_error: 17.4980 - val_loss: 17975.7413 - val_mean_absolute_error: 131.9705\n",
      "Epoch 4/50\n",
      " - 29s - loss: 353.8095 - mean_absolute_error: 15.1611 - val_loss: 10198.2520 - val_mean_absolute_error: 99.1627\n",
      "Epoch 5/50\n",
      " - 30s - loss: 294.0738 - mean_absolute_error: 13.7423 - val_loss: 3085.4313 - val_mean_absolute_error: 54.1480\n",
      "Epoch 6/50\n",
      " - 29s - loss: 392.1718 - mean_absolute_error: 15.8018 - val_loss: 1300.8426 - val_mean_absolute_error: 35.3108\n",
      "Epoch 7/50\n",
      " - 30s - loss: 390.9498 - mean_absolute_error: 15.9996 - val_loss: 354.5142 - val_mean_absolute_error: 17.8088\n",
      "Epoch 8/50\n",
      " - 29s - loss: 337.8860 - mean_absolute_error: 14.4398 - val_loss: 727.7304 - val_mean_absolute_error: 26.0603\n",
      "Epoch 9/50\n",
      " - 30s - loss: 374.6179 - mean_absolute_error: 15.4949 - val_loss: 58.2190 - val_mean_absolute_error: 5.9767\n",
      "Epoch 10/50\n",
      " - 30s - loss: 419.5059 - mean_absolute_error: 16.1761 - val_loss: 70.0495 - val_mean_absolute_error: 6.6555\n",
      "Epoch 11/50\n",
      " - 30s - loss: 389.6413 - mean_absolute_error: 16.1034 - val_loss: 187.3981 - val_mean_absolute_error: 11.8813\n",
      "Epoch 12/50\n",
      " - 31s - loss: 336.2460 - mean_absolute_error: 14.5188 - val_loss: 127.2322 - val_mean_absolute_error: 9.4091\n",
      "Epoch 13/50\n",
      " - 30s - loss: 353.9834 - mean_absolute_error: 15.2284 - val_loss: 98.2486 - val_mean_absolute_error: 7.4197\n",
      "Epoch 14/50\n",
      " - 31s - loss: 370.3001 - mean_absolute_error: 15.6284 - val_loss: 49.3646 - val_mean_absolute_error: 5.4874\n",
      "Epoch 15/50\n",
      " - 30s - loss: 404.7938 - mean_absolute_error: 15.8934 - val_loss: 97.8229 - val_mean_absolute_error: 8.0596\n",
      "Epoch 16/50\n",
      " - 29s - loss: 402.8795 - mean_absolute_error: 16.1632 - val_loss: 48.2682 - val_mean_absolute_error: 5.6287\n",
      "Epoch 17/50\n",
      " - 29s - loss: 306.0617 - mean_absolute_error: 13.8758 - val_loss: 57.9701 - val_mean_absolute_error: 6.2689\n",
      "Epoch 18/50\n",
      " - 29s - loss: 410.9819 - mean_absolute_error: 16.4561 - val_loss: 167.4539 - val_mean_absolute_error: 11.4948\n",
      "Epoch 19/50\n",
      " - 30s - loss: 293.5301 - mean_absolute_error: 13.6449 - val_loss: 292.7580 - val_mean_absolute_error: 16.1178\n",
      "Epoch 23/50\n",
      " - 29s - loss: 343.5632 - mean_absolute_error: 14.6430 - val_loss: 40.0647 - val_mean_absolute_error: 4.6096\n",
      "Epoch 24/50\n",
      " - 29s - loss: 334.1597 - mean_absolute_error: 14.7237 - val_loss: 94.8263 - val_mean_absolute_error: 8.6206\n",
      "Epoch 25/50\n",
      " - 29s - loss: 288.3859 - mean_absolute_error: 13.5079 - val_loss: 217.9828 - val_mean_absolute_error: 13.3982\n",
      "Epoch 26/50\n",
      " - 30s - loss: 271.0005 - mean_absolute_error: 13.4124 - val_loss: 70.7591 - val_mean_absolute_error: 7.3368\n",
      "Epoch 27/50\n",
      " - 31s - loss: 288.6376 - mean_absolute_error: 13.4337 - val_loss: 61.8899 - val_mean_absolute_error: 6.3150\n",
      "Epoch 28/50\n",
      " - 31s - loss: 343.2746 - mean_absolute_error: 14.6891 - val_loss: 279.6981 - val_mean_absolute_error: 15.5719\n",
      "Epoch 29/50\n",
      " - 31s - loss: 325.5684 - mean_absolute_error: 14.6677 - val_loss: 131.0513 - val_mean_absolute_error: 9.8153\n",
      "Epoch 30/50\n",
      " - 30s - loss: 318.7586 - mean_absolute_error: 14.2581 - val_loss: 91.2862 - val_mean_absolute_error: 7.6959\n",
      "Epoch 31/50\n",
      " - 29s - loss: 274.4644 - mean_absolute_error: 13.5483 - val_loss: 375.3121 - val_mean_absolute_error: 17.6894\n",
      "Epoch 32/50\n",
      " - 30s - loss: 302.9310 - mean_absolute_error: 13.8189 - val_loss: 45.1034 - val_mean_absolute_error: 5.5186\n",
      "Epoch 33/50\n",
      " - 29s - loss: 267.0905 - mean_absolute_error: 13.2122 - val_loss: 138.0744 - val_mean_absolute_error: 10.4507\n",
      "Epoch 34/50\n",
      " - 30s - loss: 280.4901 - mean_absolute_error: 13.1006 - val_loss: 196.6235 - val_mean_absolute_error: 12.7092\n",
      "Epoch 35/50\n",
      " - 29s - loss: 281.4389 - mean_absolute_error: 13.4648 - val_loss: 34.3397 - val_mean_absolute_error: 4.6835\n",
      "Epoch 36/50\n",
      " - 29s - loss: 269.1589 - mean_absolute_error: 13.0482 - val_loss: 33.8537 - val_mean_absolute_error: 4.6763\n",
      "Epoch 37/50\n",
      " - 29s - loss: 266.0549 - mean_absolute_error: 12.8689 - val_loss: 25.4918 - val_mean_absolute_error: 3.9784\n",
      "Epoch 38/50\n",
      " - 31s - loss: 257.3055 - mean_absolute_error: 12.9489 - val_loss: 20.5995 - val_mean_absolute_error: 3.6480\n",
      "Epoch 39/50\n",
      " - 31s - loss: 289.1979 - mean_absolute_error: 13.4173 - val_loss: 32.0943 - val_mean_absolute_error: 4.5482\n",
      "Epoch 40/50\n",
      " - 30s - loss: 266.9795 - mean_absolute_error: 13.0051 - val_loss: 62.4327 - val_mean_absolute_error: 6.6598\n",
      "Epoch 41/50\n",
      " - 30s - loss: 258.5820 - mean_absolute_error: 12.7595 - val_loss: 141.2989 - val_mean_absolute_error: 10.8930\n",
      "Epoch 42/50\n",
      " - 32s - loss: 248.0446 - mean_absolute_error: 12.4299 - val_loss: 65.5598 - val_mean_absolute_error: 6.8385\n",
      "Epoch 43/50\n",
      " - 29s - loss: 257.7549 - mean_absolute_error: 12.7629 - val_loss: 28.8581 - val_mean_absolute_error: 4.3681\n",
      "Epoch 44/50\n",
      " - 29s - loss: 256.9808 - mean_absolute_error: 12.8818 - val_loss: 33.1071 - val_mean_absolute_error: 4.5396\n",
      "Epoch 45/50\n",
      " - 30s - loss: 235.8052 - mean_absolute_error: 12.0804 - val_loss: 48.3742 - val_mean_absolute_error: 5.6494\n",
      "Epoch 46/50\n",
      " - 31s - loss: 264.6267 - mean_absolute_error: 12.8956 - val_loss: 48.3977 - val_mean_absolute_error: 5.8438\n",
      "Epoch 47/50\n",
      " - 30s - loss: 249.7268 - mean_absolute_error: 12.7105 - val_loss: 56.6425 - val_mean_absolute_error: 6.1310\n",
      "Epoch 48/50\n",
      " - 31s - loss: 246.8556 - mean_absolute_error: 12.4179 - val_loss: 57.5227 - val_mean_absolute_error: 6.3189\n",
      "Epoch 49/50\n",
      " - 30s - loss: 248.3288 - mean_absolute_error: 12.1551 - val_loss: 51.5347 - val_mean_absolute_error: 5.9834\n",
      "Epoch 50/50\n",
      " - 30s - loss: 298.9465 - mean_absolute_error: 13.5800 - val_loss: 81.6110 - val_mean_absolute_error: 7.8967\n",
      "CPU times: user 16min 48s, sys: 4min 27s, total: 21min 15s\n",
      "Wall time: 25min 2s\n"
     ]
    }
   ],
   "source": [
    "%%time\n",
    "hist = model.fit(X_train, y_train, epochs=50, batch_size=24, validation_data=(X_test, y_test), verbose=2)"
   ]
  },
  {
   "cell_type": "code",
   "execution_count": 25,
   "metadata": {},
   "outputs": [
    {
     "data": {
      "image/png": "[encoded data removed]",
      "text/plain": [
       "<Figure size 648x648 with 1 Axes>"
      ]
     },
     "metadata": {},
     "output_type": "display_data"
    }
   ],
   "source": [
    "import matplotlib.pyplot as plt\n",
    "%matplotlib inline\n",
    "\n",
    "plt.figure(figsize=(9,9))\n",
    "plt.plot(hist.history[\"loss\"])\n",
    "plt.plot(hist.history[\"val_mean_absolute_error\"])\n",
    "plt.show()"
   ]
  },
  {
   "cell_type": "code",
   "execution_count": 26,
   "metadata": {},
   "outputs": [
    {
     "name": "stdout",
     "output_type": "stream",
     "text": [
      "prediction : [115.814735], Truth : 122.39 \n"
     ]
    }
   ],
   "source": [
    "r = 2\n",
    "print(\"prediction : {}, Truth : {} \".format(model.predict(X_test)[r], y_test[r]))"
   ]
  },
  {
   "cell_type": "code",
   "execution_count": null,
   "metadata": {},
   "outputs": [],
   "source": []
  }
 ],
 "metadata": {
  "kernelspec": {
   "display_name": "Python 3",
   "language": "python",
   "name": "python3"
  },
  "language_info": {
   "codemirror_mode": {
    "name": "ipython",
    "version": 3
   },
   "file_extension": ".py",
   "mimetype": "text/x-python",
   "name": "python",
   "nbconvert_exporter": "python",
   "pygments_lexer": "ipython3",
   "version": "3.6.3"
  }
 },
 "nbformat": 4,
 "nbformat_minor": 2
}
